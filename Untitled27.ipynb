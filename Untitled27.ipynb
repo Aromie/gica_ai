{
  "nbformat": 4,
  "nbformat_minor": 0,
  "metadata": {
    "colab": {
      "provenance": [],
      "collapsed_sections": [],
      "authorship_tag": "ABX9TyOXBhvYCLSiZimafsSUpDC7",
      "include_colab_link": true
    },
    "kernelspec": {
      "name": "python3",
      "display_name": "Python 3"
    },
    "language_info": {
      "name": "python"
    }
  },
  "cells": [
    {
      "cell_type": "markdown",
      "metadata": {
        "id": "view-in-github",
        "colab_type": "text"
      },
      "source": [
        "<a href=\"https://colab.research.google.com/github/Aromie/gica_ai/blob/main/Untitled27.ipynb\" target=\"_parent\"><img src=\"https://colab.research.google.com/assets/colab-badge.svg\" alt=\"Open In Colab\"/></a>"
      ]
    },
    {
      "cell_type": "code",
      "execution_count": null,
      "metadata": {
        "id": "WOOrcJnIi8QA"
      },
      "outputs": [],
      "source": [
        "!pip install pandas\n"
      ]
    },
    {
      "cell_type": "code",
      "source": [
        "import pandas as pd\n",
        "import numpy as np\n",
        "import nltk # 영어에 특화\n",
        "from nltk.corpus import stopwords\n",
        "from sklearn. datasets import fetch_20newsgroups\n",
        "from tensorflow.keras.preprocessing.text import Tokenizer"
      ],
      "metadata": {
        "id": "cIzLK0lcqc0T"
      },
      "execution_count": 28,
      "outputs": []
    },
    {
      "cell_type": "code",
      "source": [
        "dataset = fetch_20newsgroups(shuffle = True, remove=('header', 'footer','quotes'))\n",
        "documents = dataset.data"
      ],
      "metadata": {
        "id": "nrYFkhyvnZut"
      },
      "execution_count": 29,
      "outputs": []
    },
    {
      "cell_type": "code",
      "source": [
        "news_df=pd.DataFrame({'document': documents})\n",
        "\n",
        "news_df['clean_doc'] = news_df['document'].str.replace(\"[^a-zA-Z]\",' ')\n",
        "\n",
        "news_df['clean_doc'] = news_df['clean_doc'].apply(lambda x: ' '.join([word for word in x.split() if len(word) >3]))\n",
        "# 소문자로 바꾸기\n",
        "news_df['clean_doc'] = news_df['clean_doc'].apply(lambda x: x.lower())\n",
        "\n",
        "news_df.head()"
      ],
      "metadata": {
        "id": "mYPi5JYlot1P"
      },
      "execution_count": null,
      "outputs": []
    },
    {
      "cell_type": "code",
      "source": [
        "news_df.dropna(inplace=True)\n",
        "len(news_df)"
      ],
      "metadata": {
        "id": "rWIBZQoCsgBI"
      },
      "execution_count": null,
      "outputs": []
    },
    {
      "cell_type": "code",
      "source": [
        "import nltk\n",
        "nltk.download('stopwords')"
      ],
      "metadata": {
        "colab": {
          "base_uri": "https://localhost:8080/"
        },
        "id": "VPhKHT86svzH",
        "outputId": "f93db5a0-4e3a-4b0b-955d-c24c4bbee14c"
      },
      "execution_count": 32,
      "outputs": [
        {
          "output_type": "stream",
          "name": "stderr",
          "text": [
            "[nltk_data] Downloading package stopwords to /root/nltk_data...\n",
            "[nltk_data]   Package stopwords is already up-to-date!\n"
          ]
        },
        {
          "output_type": "execute_result",
          "data": {
            "text/plain": [
              "True"
            ]
          },
          "metadata": {},
          "execution_count": 32
        }
      ]
    },
    {
      "cell_type": "code",
      "source": [
        "stop_words = stopwords.words('english')\n",
        "tokenized_sentences = news_df['clean_doc'].apply(lambda x : x.split())\n",
        "tokenized_sentences = tokenized_sentences.apply(lambda x : [word for word in x if word not in stop_words])\n",
        "tokenized_sentences = tokenized_sentences.to_list()"
      ],
      "metadata": {
        "id": "dpGE82kVuYPv"
      },
      "execution_count": 33,
      "outputs": []
    },
    {
      "cell_type": "code",
      "source": [
        "#from pandas.io.pytables import to_hdf 갑자기 튀어 나온 코드 내가 안썼음\n",
        "#to_hdf 상동"
      ],
      "metadata": {
        "id": "yCJMqOeovdxb"
      },
      "execution_count": null,
      "outputs": []
    },
    {
      "cell_type": "code",
      "source": [
        "tokenized_sentences[:5]"
      ],
      "metadata": {
        "id": "w35a3cEcvbgV"
      },
      "execution_count": null,
      "outputs": []
    },
    {
      "cell_type": "code",
      "source": [
        "# 길이 맞추고 패드 씌우기 전에 인코딩하기\n",
        "tokenizer = Tokenizer()\n",
        "tokenizer.fit_on_texts(tokenized_sentences)"
      ],
      "metadata": {
        "id": "OaLk-_A6wEr6"
      },
      "execution_count": 36,
      "outputs": []
    },
    {
      "cell_type": "code",
      "source": [
        "word_dict = tokenizer.word_index\n",
        "encoded_sentence = tokenizer.texts_to_sequences(tokenized_sentences)\n",
        "encoded_sentence[:5]"
      ],
      "metadata": {
        "id": "WP_itn_KwaT2"
      },
      "execution_count": null,
      "outputs": []
    },
    {
      "cell_type": "code",
      "source": [
        "len(word_dict)"
      ],
      "metadata": {
        "colab": {
          "base_uri": "https://localhost:8080/"
        },
        "id": "6cq3ifCdw8j0",
        "outputId": "9890f8ca-e74e-495f-cc7f-84e85a777a98"
      },
      "execution_count": 38,
      "outputs": [
        {
          "output_type": "execute_result",
          "data": {
            "text/plain": [
              "74987"
            ]
          },
          "metadata": {},
          "execution_count": 38
        }
      ]
    },
    {
      "cell_type": "code",
      "source": [
        "from tensorflow.keras.preprocessing.sequence import skipgrams"
      ],
      "metadata": {
        "id": "QwJuCynsw8o3"
      },
      "execution_count": 39,
      "outputs": []
    },
    {
      "cell_type": "code",
      "source": [
        "skip_grams=[skipgrams(sentence, vocabulary_size=74988, window_size = 10) for sentence in encoded_sentence[:5]]"
      ],
      "metadata": {
        "id": "8rq9RXnFw8t9"
      },
      "execution_count": 40,
      "outputs": []
    },
    {
      "cell_type": "code",
      "source": [
        "idx2word = {value:key for key, value in word_dict.items()}"
      ],
      "metadata": {
        "id": "g2zPJQOSIeOm"
      },
      "execution_count": 41,
      "outputs": []
    },
    {
      "cell_type": "code",
      "source": [
        "pairs, labels = skip_grams[0][0], skip_grams[0][1]\n",
        "for i in range(10):\n",
        "  print(f\"{idx2word[pairs[i][0]]} - > {idx2word[pairs[i][0]]}, {idx2word[pairs[i][1]]} ->{[pairs[i][1]]} {labels[i]}\")\n"
      ],
      "metadata": {
        "colab": {
          "base_uri": "https://localhost:8080/"
        },
        "id": "HjYu8iqaw8zH",
        "outputId": "6895cc0f-1ced-41f4-ebca-300cabde61b5"
      },
      "execution_count": 45,
      "outputs": [
        {
          "output_type": "stream",
          "name": "stdout",
          "text": [
            "wondering - > wondering, windwos ->[74183] 0\n",
            "enlighten - > enlighten, wondering ->[1159] 1\n",
            "mail - > mail, whatever ->[532] 1\n",
            "bumper - > bumper, uorplq ->[33028] 0\n",
            "addition - > addition, binding ->[6876] 0\n",
            "model - > model, addition ->[885] 1\n",
            "bricklin - > bricklin, pies ->[56449] 0\n",
            "front - > front, engine ->[715] 1\n",
            "called - > called, tuchler ->[67076] 0\n",
            "funky - > funky, mail ->[37] 1\n"
          ]
        }
      ]
    },
    {
      "cell_type": "code",
      "source": [
        "from tensorflow.keras.models import Sequential, Model\n",
        "from tensorflow.keras.layers import Embedding, Reshape, Activation, Input, Dot\n",
        "from tensorflow.keras.utils import plot_model\n",
        "from IPython.display import SVG\n"
      ],
      "metadata": {
        "id": "_WRiqTMXKi9m"
      },
      "execution_count": 46,
      "outputs": []
    },
    {
      "cell_type": "code",
      "source": [],
      "metadata": {
        "id": "2w7BQVcrLMSq"
      },
      "execution_count": null,
      "outputs": []
    }
  ]
}