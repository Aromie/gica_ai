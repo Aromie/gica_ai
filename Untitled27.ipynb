{
  "nbformat": 4,
  "nbformat_minor": 0,
  "metadata": {
    "colab": {
      "provenance": [],
      "collapsed_sections": [],
      "authorship_tag": "ABX9TyNQ+kWG0MNXHuKjUS8wRAde",
      "include_colab_link": true
    },
    "kernelspec": {
      "name": "python3",
      "display_name": "Python 3"
    },
    "language_info": {
      "name": "python"
    }
  },
  "cells": [
    {
      "cell_type": "markdown",
      "metadata": {
        "id": "view-in-github",
        "colab_type": "text"
      },
      "source": [
        "<a href=\"https://colab.research.google.com/github/Aromie/gica_ai/blob/main/Untitled27.ipynb\" target=\"_parent\"><img src=\"https://colab.research.google.com/assets/colab-badge.svg\" alt=\"Open In Colab\"/></a>"
      ]
    },
    {
      "cell_type": "code",
      "execution_count": 1,
      "metadata": {
        "id": "WOOrcJnIi8QA",
        "colab": {
          "base_uri": "https://localhost:8080/"
        },
        "outputId": "158d3798-24e1-46ea-abe0-538ce132d2f4"
      },
      "outputs": [
        {
          "output_type": "stream",
          "name": "stdout",
          "text": [
            "Looking in indexes: https://pypi.org/simple, https://us-python.pkg.dev/colab-wheels/public/simple/\n",
            "Requirement already satisfied: pandas in /usr/local/lib/python3.7/dist-packages (1.3.5)\n",
            "Requirement already satisfied: python-dateutil>=2.7.3 in /usr/local/lib/python3.7/dist-packages (from pandas) (2.8.2)\n",
            "Requirement already satisfied: pytz>=2017.3 in /usr/local/lib/python3.7/dist-packages (from pandas) (2022.2.1)\n",
            "Requirement already satisfied: numpy>=1.17.3 in /usr/local/lib/python3.7/dist-packages (from pandas) (1.21.6)\n",
            "Requirement already satisfied: six>=1.5 in /usr/local/lib/python3.7/dist-packages (from python-dateutil>=2.7.3->pandas) (1.15.0)\n"
          ]
        }
      ],
      "source": [
        "!pip install pandas\n"
      ]
    },
    {
      "cell_type": "code",
      "source": [
        "import pandas as pd\n",
        "import numpy as np\n",
        "import nltk # 영어에 특화\n",
        "from nltk.corpus import stopwords\n",
        "from sklearn. datasets import fetch_20newsgroups\n",
        "from tensorflow.keras.preprocessing.text import Tokenizer"
      ],
      "metadata": {
        "id": "cIzLK0lcqc0T"
      },
      "execution_count": 2,
      "outputs": []
    },
    {
      "cell_type": "code",
      "source": [
        "dataset = fetch_20newsgroups(shuffle = True, remove=('header', 'footer','quotes'))\n",
        "documents = dataset.data"
      ],
      "metadata": {
        "id": "nrYFkhyvnZut"
      },
      "execution_count": 3,
      "outputs": []
    },
    {
      "cell_type": "code",
      "source": [
        "news_df=pd.DataFrame({'document': documents})\n",
        "\n",
        "news_df['clean_doc'] = news_df['document'].str.replace(\"[^a-zA-Z]\",' ')\n",
        "\n",
        "news_df['clean_doc'] = news_df['clean_doc'].apply(lambda x: ' '.join([word for word in x.split() if len(word) >3]))\n",
        "# 소문자로 바꾸기\n",
        "news_df['clean_doc'] = news_df['clean_doc'].apply(lambda x: x.lower())\n",
        "\n",
        "news_df.head()"
      ],
      "metadata": {
        "id": "mYPi5JYlot1P",
        "colab": {
          "base_uri": "https://localhost:8080/",
          "height": 243
        },
        "outputId": "1fd7ce3b-7429-4930-ac6c-86af550d0ba3"
      },
      "execution_count": 4,
      "outputs": [
        {
          "output_type": "stream",
          "name": "stderr",
          "text": [
            "/usr/local/lib/python3.7/dist-packages/ipykernel_launcher.py:3: FutureWarning: The default value of regex will change from True to False in a future version.\n",
            "  This is separate from the ipykernel package so we can avoid doing imports until\n"
          ]
        },
        {
          "output_type": "execute_result",
          "data": {
            "text/plain": [
              "                                            document  \\\n",
              "0  From: lerxst@wam.umd.edu (where's my thing)\\nS...   \n",
              "1  From: guykuo@carson.u.washington.edu (Guy Kuo)...   \n",
              "2  From: twillis@ec.ecn.purdue.edu (Thomas E Will...   \n",
              "3  From: jgreen@amber (Joe Green)\\nSubject: Re: W...   \n",
              "4  From: jcm@head-cfa.harvard.edu (Jonathan McDow...   \n",
              "\n",
              "                                           clean_doc  \n",
              "0  from lerxst where thing subject what this nntp...  \n",
              "1  from guykuo carson washington subject clock po...  \n",
              "2  from twillis purdue thomas willis subject ques...  \n",
              "3  from jgreen amber green subject weitek organiz...  \n",
              "4  from head harvard jonathan mcdowell subject sh...  "
            ],
            "text/html": [
              "\n",
              "  <div id=\"df-11de07a7-068d-4f06-9fe8-e903bcdf6049\">\n",
              "    <div class=\"colab-df-container\">\n",
              "      <div>\n",
              "<style scoped>\n",
              "    .dataframe tbody tr th:only-of-type {\n",
              "        vertical-align: middle;\n",
              "    }\n",
              "\n",
              "    .dataframe tbody tr th {\n",
              "        vertical-align: top;\n",
              "    }\n",
              "\n",
              "    .dataframe thead th {\n",
              "        text-align: right;\n",
              "    }\n",
              "</style>\n",
              "<table border=\"1\" class=\"dataframe\">\n",
              "  <thead>\n",
              "    <tr style=\"text-align: right;\">\n",
              "      <th></th>\n",
              "      <th>document</th>\n",
              "      <th>clean_doc</th>\n",
              "    </tr>\n",
              "  </thead>\n",
              "  <tbody>\n",
              "    <tr>\n",
              "      <th>0</th>\n",
              "      <td>From: lerxst@wam.umd.edu (where's my thing)\\nS...</td>\n",
              "      <td>from lerxst where thing subject what this nntp...</td>\n",
              "    </tr>\n",
              "    <tr>\n",
              "      <th>1</th>\n",
              "      <td>From: guykuo@carson.u.washington.edu (Guy Kuo)...</td>\n",
              "      <td>from guykuo carson washington subject clock po...</td>\n",
              "    </tr>\n",
              "    <tr>\n",
              "      <th>2</th>\n",
              "      <td>From: twillis@ec.ecn.purdue.edu (Thomas E Will...</td>\n",
              "      <td>from twillis purdue thomas willis subject ques...</td>\n",
              "    </tr>\n",
              "    <tr>\n",
              "      <th>3</th>\n",
              "      <td>From: jgreen@amber (Joe Green)\\nSubject: Re: W...</td>\n",
              "      <td>from jgreen amber green subject weitek organiz...</td>\n",
              "    </tr>\n",
              "    <tr>\n",
              "      <th>4</th>\n",
              "      <td>From: jcm@head-cfa.harvard.edu (Jonathan McDow...</td>\n",
              "      <td>from head harvard jonathan mcdowell subject sh...</td>\n",
              "    </tr>\n",
              "  </tbody>\n",
              "</table>\n",
              "</div>\n",
              "      <button class=\"colab-df-convert\" onclick=\"convertToInteractive('df-11de07a7-068d-4f06-9fe8-e903bcdf6049')\"\n",
              "              title=\"Convert this dataframe to an interactive table.\"\n",
              "              style=\"display:none;\">\n",
              "        \n",
              "  <svg xmlns=\"http://www.w3.org/2000/svg\" height=\"24px\"viewBox=\"0 0 24 24\"\n",
              "       width=\"24px\">\n",
              "    <path d=\"M0 0h24v24H0V0z\" fill=\"none\"/>\n",
              "    <path d=\"M18.56 5.44l.94 2.06.94-2.06 2.06-.94-2.06-.94-.94-2.06-.94 2.06-2.06.94zm-11 1L8.5 8.5l.94-2.06 2.06-.94-2.06-.94L8.5 2.5l-.94 2.06-2.06.94zm10 10l.94 2.06.94-2.06 2.06-.94-2.06-.94-.94-2.06-.94 2.06-2.06.94z\"/><path d=\"M17.41 7.96l-1.37-1.37c-.4-.4-.92-.59-1.43-.59-.52 0-1.04.2-1.43.59L10.3 9.45l-7.72 7.72c-.78.78-.78 2.05 0 2.83L4 21.41c.39.39.9.59 1.41.59.51 0 1.02-.2 1.41-.59l7.78-7.78 2.81-2.81c.8-.78.8-2.07 0-2.86zM5.41 20L4 18.59l7.72-7.72 1.47 1.35L5.41 20z\"/>\n",
              "  </svg>\n",
              "      </button>\n",
              "      \n",
              "  <style>\n",
              "    .colab-df-container {\n",
              "      display:flex;\n",
              "      flex-wrap:wrap;\n",
              "      gap: 12px;\n",
              "    }\n",
              "\n",
              "    .colab-df-convert {\n",
              "      background-color: #E8F0FE;\n",
              "      border: none;\n",
              "      border-radius: 50%;\n",
              "      cursor: pointer;\n",
              "      display: none;\n",
              "      fill: #1967D2;\n",
              "      height: 32px;\n",
              "      padding: 0 0 0 0;\n",
              "      width: 32px;\n",
              "    }\n",
              "\n",
              "    .colab-df-convert:hover {\n",
              "      background-color: #E2EBFA;\n",
              "      box-shadow: 0px 1px 2px rgba(60, 64, 67, 0.3), 0px 1px 3px 1px rgba(60, 64, 67, 0.15);\n",
              "      fill: #174EA6;\n",
              "    }\n",
              "\n",
              "    [theme=dark] .colab-df-convert {\n",
              "      background-color: #3B4455;\n",
              "      fill: #D2E3FC;\n",
              "    }\n",
              "\n",
              "    [theme=dark] .colab-df-convert:hover {\n",
              "      background-color: #434B5C;\n",
              "      box-shadow: 0px 1px 3px 1px rgba(0, 0, 0, 0.15);\n",
              "      filter: drop-shadow(0px 1px 2px rgba(0, 0, 0, 0.3));\n",
              "      fill: #FFFFFF;\n",
              "    }\n",
              "  </style>\n",
              "\n",
              "      <script>\n",
              "        const buttonEl =\n",
              "          document.querySelector('#df-11de07a7-068d-4f06-9fe8-e903bcdf6049 button.colab-df-convert');\n",
              "        buttonEl.style.display =\n",
              "          google.colab.kernel.accessAllowed ? 'block' : 'none';\n",
              "\n",
              "        async function convertToInteractive(key) {\n",
              "          const element = document.querySelector('#df-11de07a7-068d-4f06-9fe8-e903bcdf6049');\n",
              "          const dataTable =\n",
              "            await google.colab.kernel.invokeFunction('convertToInteractive',\n",
              "                                                     [key], {});\n",
              "          if (!dataTable) return;\n",
              "\n",
              "          const docLinkHtml = 'Like what you see? Visit the ' +\n",
              "            '<a target=\"_blank\" href=https://colab.research.google.com/notebooks/data_table.ipynb>data table notebook</a>'\n",
              "            + ' to learn more about interactive tables.';\n",
              "          element.innerHTML = '';\n",
              "          dataTable['output_type'] = 'display_data';\n",
              "          await google.colab.output.renderOutput(dataTable, element);\n",
              "          const docLink = document.createElement('div');\n",
              "          docLink.innerHTML = docLinkHtml;\n",
              "          element.appendChild(docLink);\n",
              "        }\n",
              "      </script>\n",
              "    </div>\n",
              "  </div>\n",
              "  "
            ]
          },
          "metadata": {},
          "execution_count": 4
        }
      ]
    },
    {
      "cell_type": "code",
      "source": [
        "news_df.dropna(inplace=True)\n",
        "len(news_df)"
      ],
      "metadata": {
        "id": "rWIBZQoCsgBI",
        "colab": {
          "base_uri": "https://localhost:8080/"
        },
        "outputId": "748f8615-cf05-46c2-e0e7-c76d699200c4"
      },
      "execution_count": 5,
      "outputs": [
        {
          "output_type": "execute_result",
          "data": {
            "text/plain": [
              "11314"
            ]
          },
          "metadata": {},
          "execution_count": 5
        }
      ]
    },
    {
      "cell_type": "code",
      "source": [
        "import nltk\n",
        "nltk.download('stopwords')"
      ],
      "metadata": {
        "colab": {
          "base_uri": "https://localhost:8080/"
        },
        "id": "VPhKHT86svzH",
        "outputId": "e996dbcc-c7a2-43e8-ef78-5eeec49c2fb2"
      },
      "execution_count": 6,
      "outputs": [
        {
          "output_type": "stream",
          "name": "stderr",
          "text": [
            "[nltk_data] Downloading package stopwords to /root/nltk_data...\n",
            "[nltk_data]   Unzipping corpora/stopwords.zip.\n"
          ]
        },
        {
          "output_type": "execute_result",
          "data": {
            "text/plain": [
              "True"
            ]
          },
          "metadata": {},
          "execution_count": 6
        }
      ]
    },
    {
      "cell_type": "code",
      "source": [
        "stop_words = stopwords.words('english')\n",
        "tokenized_sentences = news_df['clean_doc'].apply(lambda x : x.split())\n",
        "tokenized_sentences = tokenized_sentences.apply(lambda x : [word for word in x if word not in stop_words])\n",
        "tokenized_sentences = tokenized_sentences.to_list()"
      ],
      "metadata": {
        "id": "dpGE82kVuYPv"
      },
      "execution_count": 7,
      "outputs": []
    },
    {
      "cell_type": "code",
      "source": [
        "#from pandas.io.pytables import to_hdf 갑자기 튀어 나온 코드 내가 안썼음\n",
        "#to_hdf 상동"
      ],
      "metadata": {
        "id": "yCJMqOeovdxb"
      },
      "execution_count": null,
      "outputs": []
    },
    {
      "cell_type": "code",
      "source": [
        "tokenized_sentences[:5]"
      ],
      "metadata": {
        "id": "w35a3cEcvbgV"
      },
      "execution_count": null,
      "outputs": []
    },
    {
      "cell_type": "code",
      "source": [
        "# 길이 맞추고 패드 씌우기 전에 인코딩하기\n",
        "tokenizer = Tokenizer()\n",
        "tokenizer.fit_on_texts(tokenized_sentences)"
      ],
      "metadata": {
        "id": "OaLk-_A6wEr6"
      },
      "execution_count": 9,
      "outputs": []
    },
    {
      "cell_type": "code",
      "source": [
        "word_dict = tokenizer.word_index\n",
        "encoded_sentence = tokenizer.texts_to_sequences(tokenized_sentences)\n",
        "encoded_sentence[:5]"
      ],
      "metadata": {
        "id": "WP_itn_KwaT2"
      },
      "execution_count": null,
      "outputs": []
    },
    {
      "cell_type": "code",
      "source": [
        "len(word_dict)"
      ],
      "metadata": {
        "colab": {
          "base_uri": "https://localhost:8080/"
        },
        "id": "6cq3ifCdw8j0",
        "outputId": "9890f8ca-e74e-495f-cc7f-84e85a777a98"
      },
      "execution_count": null,
      "outputs": [
        {
          "output_type": "execute_result",
          "data": {
            "text/plain": [
              "74987"
            ]
          },
          "metadata": {},
          "execution_count": 38
        }
      ]
    },
    {
      "cell_type": "code",
      "source": [
        "from tensorflow.keras.preprocessing.sequence import skipgrams"
      ],
      "metadata": {
        "id": "QwJuCynsw8o3"
      },
      "execution_count": 11,
      "outputs": []
    },
    {
      "cell_type": "code",
      "source": [
        "skip_grams=[skipgrams(sentence, vocabulary_size=74988, window_size = 10) for sentence in encoded_sentence[:5]]"
      ],
      "metadata": {
        "id": "8rq9RXnFw8t9"
      },
      "execution_count": 12,
      "outputs": []
    },
    {
      "cell_type": "code",
      "source": [
        "idx2word = {value:key for key, value in word_dict.items()}"
      ],
      "metadata": {
        "id": "g2zPJQOSIeOm"
      },
      "execution_count": 13,
      "outputs": []
    },
    {
      "cell_type": "code",
      "source": [
        "pairs, labels = skip_grams[0][0], skip_grams[0][1]\n",
        "for i in range(10):\n",
        "  print(f\"{idx2word[pairs[i][0]]} - > {idx2word[pairs[i][0]]}, {idx2word[pairs[i][1]]} ->{[pairs[i][1]]} {labels[i]}\")\n"
      ],
      "metadata": {
        "id": "HjYu8iqaw8zH"
      },
      "execution_count": null,
      "outputs": []
    },
    {
      "cell_type": "markdown",
      "source": [],
      "metadata": {
        "id": "xGgOxr1_mAz3"
      }
    },
    {
      "cell_type": "code",
      "source": [
        "from tensorflow.keras.models import Sequential, Model\n",
        "from tensorflow.keras.layers import Embedding, Reshape, Activation, Input, Dot\n",
        "from tensorflow.keras.utils import plot_model\n",
        "from IPython.display import SVG\n"
      ],
      "metadata": {
        "id": "_WRiqTMXKi9m"
      },
      "execution_count": 14,
      "outputs": []
    },
    {
      "cell_type": "code",
      "source": [
        "embedding_dim = 100\n",
        "\n",
        "w_inputs = Input(shape=(1,), dtype='int32')\n",
        "word_embedding = Embedding(74988, embedding_dim)(w_inputs)\n",
        "\n",
        "c_inputs = Input(shape=(1,), dtype='int32')\n",
        "context_embedding = Embedding(74988, embedding_dim)(c_inputs)\n",
        "\n",
        "\n"
      ],
      "metadata": {
        "id": "2w7BQVcrLMSq"
      },
      "execution_count": 16,
      "outputs": []
    },
    {
      "cell_type": "code",
      "source": [
        "dot_product = Dot(axes=2)([word_embedding, context_embedding])\n",
        "dot_product = Reshape((1,), input_shape=(1,1))(dot_product)\n",
        "output= Activation('sigmoid')(dot_product)\n",
        "\n",
        "model = Model(inputs=[w_inputs, c_inputs], outputs=output)\n",
        "\n",
        "model.summary()\n",
        "\n",
        "Model: 'model'\n"
      ],
      "metadata": {
        "id": "-Xo6D4SgmxEn"
      },
      "execution_count": null,
      "outputs": []
    },
    {
      "cell_type": "code",
      "source": [
        "Model : \"model_1\""
      ],
      "metadata": {
        "id": "B8kIkfL8z5ow"
      },
      "execution_count": 25,
      "outputs": []
    },
    {
      "cell_type": "code",
      "source": [
        "model.compile(loss='binary_crossentropy', optimizer='adam')\n",
        "for epoch in range(1,6):\n",
        "  loss=0\n",
        "  for _ , elem in enumerate(skip_grams):\n",
        "    first_elem = np.array(list(zip(*elem[0]))[0], dtype='int32')\n",
        "    second_elem = np.array(list(zip(*elem[0]))[1], dtype='int32')\n",
        "    labels = np.array(elem[1], dtype='int32')\n",
        "\n",
        "    x = [first_elem, second_elem]\n",
        "    y = labels\n",
        "    loss += model.train_on_batch(x,y)\n",
        "  print(f'epoch : {epoch}, loss : {loss}')"
      ],
      "metadata": {
        "colab": {
          "base_uri": "https://localhost:8080/"
        },
        "id": "1hjRj_5lw3WZ",
        "outputId": "79baa7df-13b9-4609-ec1d-c9f0dcba700b"
      },
      "execution_count": 26,
      "outputs": [
        {
          "output_type": "stream",
          "name": "stdout",
          "text": [
            "epoch : 1, loss : 3.4218321442604065\n",
            "epoch : 2, loss : 3.4096076488494873\n",
            "epoch : 3, loss : 3.3962868452072144\n",
            "epoch : 4, loss : 3.3812003135681152\n",
            "epoch : 5, loss : 3.3641363382339478\n"
          ]
        }
      ]
    },
    {
      "cell_type": "code",
      "source": [
        "model.get_weights()[0]"
      ],
      "metadata": {
        "colab": {
          "base_uri": "https://localhost:8080/"
        },
        "id": "G_Cr82TYw3cU",
        "outputId": "ff092541-250d-4c30-973d-f854b16aeee2"
      },
      "execution_count": 27,
      "outputs": [
        {
          "output_type": "execute_result",
          "data": {
            "text/plain": [
              "array([[ 0.02897519, -0.03222843, -0.01643248, ..., -0.03265265,\n",
              "        -0.04097276, -0.03714855],\n",
              "       [ 0.04505013,  0.04848841, -0.02359519, ...,  0.04111132,\n",
              "         0.08527184, -0.05648154],\n",
              "       [-0.01967744, -0.07843186, -0.02133801, ..., -0.03818759,\n",
              "        -0.04399955, -0.02929402],\n",
              "       ...,\n",
              "       [ 0.00742841, -0.01306913, -0.01433891, ...,  0.03822747,\n",
              "        -0.02895341, -0.00628319],\n",
              "       [ 0.03245092, -0.04129685,  0.01079459, ...,  0.00367142,\n",
              "         0.03101125,  0.00367937],\n",
              "       [-0.01076778,  0.02943659,  0.04551547, ..., -0.01181649,\n",
              "         0.01678984, -0.00902275]], dtype=float32)"
            ]
          },
          "metadata": {},
          "execution_count": 27
        }
      ]
    },
    {
      "cell_type": "code",
      "source": [
        "f=open('vector.txt', 'w')\n",
        "f.write('{} {}\\n'.format(74987, embedding_dim))\n",
        "vectors=model.get_weights()[0]\n",
        "\n",
        "for word, i in tokenizer.word_index.items():\n",
        "  f.write('{} {}\\n'.format(word,' '.join(map(str, list(vectors[i, :] )))))\n",
        "\n",
        "f.close()\n"
      ],
      "metadata": {
        "id": "ZZdjf8qrw3ic"
      },
      "execution_count": 29,
      "outputs": []
    },
    {
      "cell_type": "code",
      "source": [
        "with open('/content/vector.txt') as ts:\n",
        "  a = ts.readline()\n",
        "  a[:100]"
      ],
      "metadata": {
        "id": "J-nLiNu93tjn"
      },
      "execution_count": 31,
      "outputs": []
    },
    {
      "cell_type": "code",
      "source": [
        "import gensim"
      ],
      "metadata": {
        "id": "nM4Hw3V-3UXy"
      },
      "execution_count": 33,
      "outputs": []
    },
    {
      "cell_type": "code",
      "source": [
        "w2v=gensim.models.KeyedVectors.load_word2vec_format('/content/vector.txt', binary=False)\n"
      ],
      "metadata": {
        "id": "71eYzXK64UgC"
      },
      "execution_count": 36,
      "outputs": []
    },
    {
      "cell_type": "code",
      "source": [
        "w2v .most_similar(positive=['engine'])"
      ],
      "metadata": {
        "colab": {
          "base_uri": "https://localhost:8080/"
        },
        "id": "cKnKXe2x4ySy",
        "outputId": "6faf36a7-55ab-466a-8049-ab59f5b7be67"
      },
      "execution_count": 37,
      "outputs": [
        {
          "output_type": "execute_result",
          "data": {
            "text/plain": [
              "[('respecting', 0.41223329305648804),\n",
              " ('harti', 0.38750725984573364),\n",
              " ('leakage', 0.3820803165435791),\n",
              " ('beals', 0.377160906791687),\n",
              " ('radious', 0.37240612506866455),\n",
              " ('inforcing', 0.37166568636894226),\n",
              " ('spouts', 0.3692309558391571),\n",
              " ('sunfront', 0.3681817948818207),\n",
              " ('fateful', 0.36363649368286133),\n",
              " ('conservator', 0.3630463778972626)]"
            ]
          },
          "metadata": {},
          "execution_count": 37
        }
      ]
    }
  ]
}